{
 "cells": [
  {
   "cell_type": "code",
   "execution_count": 10,
   "id": "4ad76225",
   "metadata": {},
   "outputs": [
    {
     "name": "stdout",
     "output_type": "stream",
     "text": [
      "[[1 1 1 1 1]\n",
      " [1 0 0 0 1]\n",
      " [1 0 9 0 1]\n",
      " [1 0 0 0 1]\n",
      " [1 1 1 1 1]]\n"
     ]
    }
   ],
   "source": [
    "import numpy as np\n",
    "\n",
    "def create_table(n):\n",
    "    table = np.zeros((n, n), dtype=int)  # create a n x n array of zeros\n",
    "    middle = n // 2  # get the index of the middle element\n",
    "    table[middle, middle] = 9  # set the middle element to 9\n",
    "    table[0, :] = 1  # set the first row to ones\n",
    "    table[-1, :] = 1  # set the last row to ones\n",
    "    table[:, 0] = 1  # set the first column to ones\n",
    "    table[:, -1] = 1  # set the last column to ones\n",
    "    return table\n",
    "\n",
    "table = create_table(5)\n",
    "\n",
    "print(table)\n"
   ]
  },
  {
   "cell_type": "code",
   "execution_count": 8,
   "id": "96af96dd",
   "metadata": {},
   "outputs": [
    {
     "data": {
      "text/plain": [
       "<function numpy.binary_repr(num, width=None)>"
      ]
     },
     "execution_count": 8,
     "metadata": {},
     "output_type": "execute_result"
    }
   ],
   "source": [
    "np.binary_repr"
   ]
  },
  {
   "cell_type": "code",
   "execution_count": 17,
   "id": "4c7a4af1",
   "metadata": {},
   "outputs": [
    {
     "data": {
      "text/plain": [
       "0"
      ]
     },
     "execution_count": 17,
     "metadata": {},
     "output_type": "execute_result"
    }
   ],
   "source": [
    "1//2"
   ]
  },
  {
   "cell_type": "code",
   "execution_count": null,
   "id": "c3cb3ac5",
   "metadata": {},
   "outputs": [],
   "source": []
  }
 ],
 "metadata": {
  "kernelspec": {
   "display_name": "Python 3 (ipykernel)",
   "language": "python",
   "name": "python3"
  },
  "language_info": {
   "codemirror_mode": {
    "name": "ipython",
    "version": 3
   },
   "file_extension": ".py",
   "mimetype": "text/x-python",
   "name": "python",
   "nbconvert_exporter": "python",
   "pygments_lexer": "ipython3",
   "version": "3.9.7"
  }
 },
 "nbformat": 4,
 "nbformat_minor": 5
}
